{
 "cells": [
  {
   "cell_type": "code",
   "execution_count": 1,
   "id": "cbd110da",
   "metadata": {},
   "outputs": [],
   "source": [
    "import pandas as pd"
   ]
  },
  {
   "cell_type": "code",
   "execution_count": 2,
   "id": "114d21f9",
   "metadata": {},
   "outputs": [
    {
     "name": "stderr",
     "output_type": "stream",
     "text": [
      "C:\\Users\\mo\\AppData\\Local\\Temp\\ipykernel_11516\\2617170094.py:1: ParserWarning: Falling back to the 'python' engine because the 'c' engine does not support regex separators (separators > 1 char and different from '\\s+' are interpreted as regex); you can avoid this warning by specifying engine='python'.\n",
      "  df = pd.read_csv('../data/20181024_d5_0930_1000.csv', sep=\"[;]\", index_col=False, error_bad_lines=False)\n",
      "C:\\Users\\mo\\AppData\\Local\\Temp\\ipykernel_11516\\2617170094.py:1: FutureWarning: The error_bad_lines argument has been deprecated and will be removed in a future version. Use on_bad_lines in the future.\n",
      "\n",
      "\n",
      "  df = pd.read_csv('../data/20181024_d5_0930_1000.csv', sep=\"[;]\", index_col=False, error_bad_lines=False)\n",
      "C:\\Users\\mo\\AppData\\Local\\Temp\\ipykernel_11516\\2617170094.py:1: ParserWarning: Length of header or names does not match length of data. This leads to a loss of data with index_col=False.\n",
      "  df = pd.read_csv('../data/20181024_d5_0930_1000.csv', sep=\"[;]\", index_col=False, error_bad_lines=False)\n"
     ]
    }
   ],
   "source": [
    "df = pd.read_csv('../data/20181024_d5_0930_1000.csv', sep=\"[;]\", index_col=False, error_bad_lines=False)"
   ]
  },
  {
   "cell_type": "code",
   "execution_count": 3,
   "id": "430d19f5",
   "metadata": {},
   "outputs": [
    {
     "data": {
      "text/html": [
       "<div>\n",
       "<style scoped>\n",
       "    .dataframe tbody tr th:only-of-type {\n",
       "        vertical-align: middle;\n",
       "    }\n",
       "\n",
       "    .dataframe tbody tr th {\n",
       "        vertical-align: top;\n",
       "    }\n",
       "\n",
       "    .dataframe thead th {\n",
       "        text-align: right;\n",
       "    }\n",
       "</style>\n",
       "<table border=\"1\" class=\"dataframe\">\n",
       "  <thead>\n",
       "    <tr style=\"text-align: right;\">\n",
       "      <th></th>\n",
       "      <th>track_id</th>\n",
       "      <th>type</th>\n",
       "      <th>traveled_d</th>\n",
       "      <th>avg_speed</th>\n",
       "      <th>lat</th>\n",
       "      <th>lon</th>\n",
       "      <th>speed</th>\n",
       "      <th>lon_acc</th>\n",
       "      <th>lat_acc</th>\n",
       "      <th>time</th>\n",
       "    </tr>\n",
       "  </thead>\n",
       "  <tbody>\n",
       "    <tr>\n",
       "      <th>0</th>\n",
       "      <td>1</td>\n",
       "      <td>Motorcycle</td>\n",
       "      <td>64.15</td>\n",
       "      <td>10.498043</td>\n",
       "      <td>37.983050</td>\n",
       "      <td>23.728999</td>\n",
       "      <td>0.0</td>\n",
       "      <td>0.0</td>\n",
       "      <td>0.0</td>\n",
       "      <td>0.0</td>\n",
       "    </tr>\n",
       "    <tr>\n",
       "      <th>1</th>\n",
       "      <td>2</td>\n",
       "      <td>Motorcycle</td>\n",
       "      <td>42.53</td>\n",
       "      <td>7.291162</td>\n",
       "      <td>37.982994</td>\n",
       "      <td>23.729029</td>\n",
       "      <td>0.0</td>\n",
       "      <td>0.0</td>\n",
       "      <td>0.0</td>\n",
       "      <td>0.0</td>\n",
       "    </tr>\n",
       "    <tr>\n",
       "      <th>2</th>\n",
       "      <td>3</td>\n",
       "      <td>Motorcycle</td>\n",
       "      <td>47.50</td>\n",
       "      <td>8.143241</td>\n",
       "      <td>37.983036</td>\n",
       "      <td>23.728997</td>\n",
       "      <td>0.0</td>\n",
       "      <td>0.0</td>\n",
       "      <td>0.0</td>\n",
       "      <td>0.0</td>\n",
       "    </tr>\n",
       "    <tr>\n",
       "      <th>3</th>\n",
       "      <td>4</td>\n",
       "      <td>Car</td>\n",
       "      <td>39.78</td>\n",
       "      <td>7.617286</td>\n",
       "      <td>37.983073</td>\n",
       "      <td>23.729010</td>\n",
       "      <td>0.0</td>\n",
       "      <td>0.0</td>\n",
       "      <td>0.0</td>\n",
       "      <td>0.0</td>\n",
       "    </tr>\n",
       "    <tr>\n",
       "      <th>4</th>\n",
       "      <td>5</td>\n",
       "      <td>Medium Vehicle</td>\n",
       "      <td>42.64</td>\n",
       "      <td>6.977597</td>\n",
       "      <td>37.983131</td>\n",
       "      <td>23.729013</td>\n",
       "      <td>0.0</td>\n",
       "      <td>0.0</td>\n",
       "      <td>0.0</td>\n",
       "      <td>0.0</td>\n",
       "    </tr>\n",
       "  </tbody>\n",
       "</table>\n",
       "</div>"
      ],
      "text/plain": [
       "   track_id             type   traveled_d   avg_speed        lat        lon  \\\n",
       "0         1       Motorcycle        64.15   10.498043  37.983050  23.728999   \n",
       "1         2       Motorcycle        42.53    7.291162  37.982994  23.729029   \n",
       "2         3       Motorcycle        47.50    8.143241  37.983036  23.728997   \n",
       "3         4              Car        39.78    7.617286  37.983073  23.729010   \n",
       "4         5   Medium Vehicle        42.64    6.977597  37.983131  23.729013   \n",
       "\n",
       "    speed   lon_acc   lat_acc   time  \n",
       "0     0.0       0.0       0.0    0.0  \n",
       "1     0.0       0.0       0.0    0.0  \n",
       "2     0.0       0.0       0.0    0.0  \n",
       "3     0.0       0.0       0.0    0.0  \n",
       "4     0.0       0.0       0.0    0.0  "
      ]
     },
     "execution_count": 3,
     "metadata": {},
     "output_type": "execute_result"
    }
   ],
   "source": [
    "df.head()"
   ]
  },
  {
   "cell_type": "code",
   "execution_count": 5,
   "id": "eb1b11d6",
   "metadata": {},
   "outputs": [
    {
     "data": {
      "text/plain": [
       "(2791, 10)"
      ]
     },
     "execution_count": 5,
     "metadata": {},
     "output_type": "execute_result"
    }
   ],
   "source": [
    "df.shape"
   ]
  },
  {
   "cell_type": "code",
   "execution_count": 6,
   "id": "910af62b",
   "metadata": {},
   "outputs": [
    {
     "data": {
      "text/plain": [
       "Index(['track_id', ' type', ' traveled_d', ' avg_speed', ' lat', ' lon',\n",
       "       ' speed', ' lon_acc', ' lat_acc', ' time'],\n",
       "      dtype='object')"
      ]
     },
     "execution_count": 6,
     "metadata": {},
     "output_type": "execute_result"
    }
   ],
   "source": [
    "df.columns"
   ]
  },
  {
   "cell_type": "code",
   "execution_count": null,
   "id": "e69e5715",
   "metadata": {},
   "outputs": [],
   "source": []
  }
 ],
 "metadata": {
  "kernelspec": {
   "display_name": "Python 3 (ipykernel)",
   "language": "python",
   "name": "python3"
  },
  "language_info": {
   "codemirror_mode": {
    "name": "ipython",
    "version": 3
   },
   "file_extension": ".py",
   "mimetype": "text/x-python",
   "name": "python",
   "nbconvert_exporter": "python",
   "pygments_lexer": "ipython3",
   "version": "3.9.12"
  }
 },
 "nbformat": 4,
 "nbformat_minor": 5
}
